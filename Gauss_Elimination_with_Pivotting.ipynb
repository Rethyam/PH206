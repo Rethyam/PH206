{
  "nbformat": 4,
  "nbformat_minor": 0,
  "metadata": {
    "colab": {
      "name": "Gauss Elimination with Pivotting.ipynb",
      "provenance": []
    },
    "kernelspec": {
      "name": "python3",
      "display_name": "Python 3"
    },
    "language_info": {
      "name": "python"
    }
  },
  "cells": [
    {
      "cell_type": "code",
      "execution_count": 14,
      "metadata": {
        "colab": {
          "base_uri": "https://localhost:8080/"
        },
        "id": "XwnOUVibowag",
        "outputId": "d16ac8c7-ec5f-4e0b-cd5a-709e4b804ce5"
      },
      "outputs": [
        {
          "output_type": "stream",
          "name": "stdout",
          "text": [
            "The solution for Gauss Elimination with Pivotting is: \n",
            "X0 = 0.33333\tX1 = 0.66667\t"
          ]
        }
      ],
      "source": [
        "from numpy import array, zeros, fabs, linalg\n",
        "\n",
        "a = array([[0.0003, 3],\n",
        "           [1, 1]], float)\n",
        " \n",
        "b = array([2.0001, 1], float)\n",
        "\n",
        "n = len(b)\n",
        "x = zeros(n, float)\n",
        "\n",
        "#first loop specifys the fixed row\n",
        "\n",
        "for k in range(n-1):\n",
        "    if fabs(a[k,k]) < 1.0e-12:\n",
        "        \n",
        "        for i in range(k+1, n):\n",
        "            if fabs(a[i,k]) > fabs(a[k,k]):\n",
        "                a[[k,i]] = a[[i,k]]\n",
        "                b[[k,i]] = b[[i,k]]\n",
        "                break\n",
        "\n",
        " #applies the elimination below the fixed row\n",
        "\n",
        "    for i in range(k+1,n):\n",
        "        if a[i,k] == 0:continue\n",
        "\n",
        "        factor = a[k,k]/a[i,k]\n",
        "        for j in range(k,n):\n",
        "            a[i,j] = a[k,j] - a[i,j]*factor\n",
        "            \n",
        "            \n",
        "            #we also calculate the b vector of each row\n",
        "        b[i] = b[k] - b[i]*factor\n",
        "\n",
        "\n",
        "x[n-1] = b[n-1] / a[n-1, n-1]\n",
        "for i in range(n-2, -1, -1):\n",
        "    sum_ax = 0\n",
        "  \n",
        "    for j in range(i+1, n):\n",
        "        sum_ax += a[i,j] * x[j]\n",
        "        \n",
        "    x[i] = (b[i] - sum_ax) / a[i,i]\n",
        "\n",
        "print(\"The solution for Gauss Elimination with Pivotting is: \")\n",
        "\n",
        "for i in range(n):\n",
        "    print('X%d = %0.5f' %(i,x[i]), end = '\\t')\n",
        "\n"
      ]
    }
  ]
}
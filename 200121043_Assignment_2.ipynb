{
  "nbformat": 4,
  "nbformat_minor": 0,
  "metadata": {
    "colab": {
      "name": "Assignment-2.ipynb",
      "provenance": []
    },
    "kernelspec": {
      "name": "python3",
      "display_name": "Python 3"
    },
    "language_info": {
      "name": "python"
    }
  },
  "cells": [
    {
      "cell_type": "code",
      "execution_count": null,
      "metadata": {
        "id": "DnPbMvKLjJii"
      },
      "outputs": [],
      "source": [
        "import matplotlib.pyplot as plt\n",
        "import numpy as np\n",
        "import math\n",
        "\n",
        "theta_i_deg = np.arange(0, 90.1, 0.1)\n",
        "n1 = 1.33\n",
        "n2 = 2.77\n",
        "theta_i = theta_i_deg * (np.pi/180)\n",
        "theta_t = np.arcsin(n1/n2*np.sin(theta_i))\n",
        "\n",
        "def fresnel(n1, n2, t_i, t_t):\n",
        "    r_s = (n1*np.cos(t_i)-n2*np.cos(t_t))/(n1*np.cos(t_i)+n2*np.cos(t_t))\n",
        "    r_p = (n2*np.cos(t_i)-n1*np.cos(t_t))/(n2*np.cos(t_i)+n1*np.cos(t_t))\n",
        "    t_s = (2*n1*np.cos(t_i))/(n1*np.cos(t_i)+n2*np.cos(t_t))\n",
        "    t_p = (2*n1*np.cos(t_i))/(n2*np.cos(t_i)+n1*np.cos(t_t))\n",
        "    return r_s, r_p, t_s, t_p\n",
        "r_s, r_p, t_s, t_p = fresnel(n1, n2, theta_i, theta_t)\n",
        "r_p_0 = 0.0\n",
        "theta_i_0_deg = 0\n",
        "k = n1/n2\n",
        "\n",
        "for i in theta_i_deg:\n",
        "    if math.fabs(k*np.cos(np.arcsin(k*np.sin(i*(np.pi/180)))) - np.cos(i*(np.pi/180))) < 0.001:\n",
        "        theta_i_0_deg = i\n",
        "        break        \n",
        "theta_i_0 = theta_i_0_deg * (np.pi/180)\n",
        "theta_t_0 = np.arcsin(n1/n2*np.sin(theta_i_0))\n",
        "r_s_0, r_p_0, t_s_0, t_p_0 = fresnel(n1, n2, theta_i_0, theta_t_0)\n",
        "\n",
        "plt.plot(theta_i_deg,r_s,color='Green', label = \"Rs\")\n",
        "plt.plot(theta_i_deg,r_p,color='Red', label = \"Rp\")\n",
        "plt.plot(theta_i_deg,t_s,color='Blue', label = \"Ts\")\n",
        "plt.plot(theta_i_deg,t_p,color='Black', label = \"Tp\")\n",
        "plt.plot(theta_i_0_deg,0,'ro') \n",
        "plt.axvline(x = theta_i_0_deg, color = 'Orange')\n",
        "plt.grid()\n",
        "plt.legend()\n",
        "plt.xlabel('Incident Angle in Degrees')\n",
        "plt.ylabel('Fresnel Coefeecients')\n",
        "plt.title('Fresnel Equations')\n",
        "plt.show()\n",
        "print()\n",
        "print('**********************')\n",
        "print('For Brewster Angle Rp = 0, Thus on solving from the equation we get it as = ', theta_i_0_deg, 'Approximately, Which can be seen as the vertical Orange line in the Curve')\n"
      ]
    }
  ]
}